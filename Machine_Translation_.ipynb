{
  "cells": [
    {
      "cell_type": "code",
      "source": [
        "! unzip \"/content/archive.zip\" -d \"/content/kaggle\""
      ],
      "metadata": {
        "colab": {
          "base_uri": "https://localhost:8080/"
        },
        "id": "zmnfRzWavdke",
        "outputId": "d495de3e-d005-4884-cff4-24f14484e92a"
      },
      "execution_count": 2,
      "outputs": [
        {
          "output_type": "stream",
          "name": "stdout",
          "text": [
            "Archive:  /content/archive.zip\n",
            "  inflating: /content/kaggle/Hindi_English_Truncated_Corpus.csv  \n"
          ]
        }
      ]
    },
    {
      "metadata": {
        "trusted": true,
        "id": "-rKeYlvqsqi9"
      },
      "cell_type": "code",
      "source": [
        "import numpy as np\n",
        "import pandas as pd\n",
        "import os\n",
        "import  re\n",
        "import string\n",
        "from string import digits\n",
        "from numpy import array, argmax, random, take\n",
        "from keras.models import Sequential\n",
        "from keras.layers import Dense, LSTM, Embedding, Bidirectional, RepeatVector, TimeDistributed,Masking\n",
        "from keras.preprocessing.text import Tokenizer\n",
        "from keras.callbacks import ModelCheckpoint\n",
        "from keras.preprocessing.sequence import pad_sequences\n",
        "from keras.models import load_model\n",
        "from keras import optimizers\n",
        "import matplotlib.pyplot as plt\n",
        "from keras.utils import to_categorical\n",
        "from keras.models import Model\n",
        "from keras.layers import Input, LSTM, Dense"
      ],
      "execution_count": 32,
      "outputs": []
    },
    {
      "metadata": {
        "trusted": true,
        "id": "SjQYbL4ssqi-"
      },
      "cell_type": "code",
      "source": [
        "df=pd.read_csv(\"/content/kaggle/Hindi_English_Truncated_Corpus.csv\")\n",
        "df=df[:10]"
      ],
      "execution_count": 61,
      "outputs": []
    },
    {
      "metadata": {
        "trusted": true,
        "colab": {
          "base_uri": "https://localhost:8080/",
          "height": 174
        },
        "id": "0DoBj3YXsqjB",
        "outputId": "07433135-de39-4f28-d1b5-297e12f2cf37"
      },
      "cell_type": "code",
      "source": [
        "df.describe()"
      ],
      "execution_count": 62,
      "outputs": [
        {
          "output_type": "execute_result",
          "data": {
            "text/plain": [
              "       source                                   english_sentence  \\\n",
              "count      10                                                 10   \n",
              "unique      3                                                 10   \n",
              "top       ted  politicians do not have permission to do what ...   \n",
              "freq        4                                                  1   \n",
              "\n",
              "                                           hindi_sentence  \n",
              "count                                                  10  \n",
              "unique                                                 10  \n",
              "top     राजनीतिज्ञों के पास जो कार्य करना चाहिए, वह कर...  \n",
              "freq                                                    1  "
            ],
            "text/html": [
              "\n",
              "  <div id=\"df-6bdb7cce-95e9-49a1-93af-bcacb026ad6f\" class=\"colab-df-container\">\n",
              "    <div>\n",
              "<style scoped>\n",
              "    .dataframe tbody tr th:only-of-type {\n",
              "        vertical-align: middle;\n",
              "    }\n",
              "\n",
              "    .dataframe tbody tr th {\n",
              "        vertical-align: top;\n",
              "    }\n",
              "\n",
              "    .dataframe thead th {\n",
              "        text-align: right;\n",
              "    }\n",
              "</style>\n",
              "<table border=\"1\" class=\"dataframe\">\n",
              "  <thead>\n",
              "    <tr style=\"text-align: right;\">\n",
              "      <th></th>\n",
              "      <th>source</th>\n",
              "      <th>english_sentence</th>\n",
              "      <th>hindi_sentence</th>\n",
              "    </tr>\n",
              "  </thead>\n",
              "  <tbody>\n",
              "    <tr>\n",
              "      <th>count</th>\n",
              "      <td>10</td>\n",
              "      <td>10</td>\n",
              "      <td>10</td>\n",
              "    </tr>\n",
              "    <tr>\n",
              "      <th>unique</th>\n",
              "      <td>3</td>\n",
              "      <td>10</td>\n",
              "      <td>10</td>\n",
              "    </tr>\n",
              "    <tr>\n",
              "      <th>top</th>\n",
              "      <td>ted</td>\n",
              "      <td>politicians do not have permission to do what ...</td>\n",
              "      <td>राजनीतिज्ञों के पास जो कार्य करना चाहिए, वह कर...</td>\n",
              "    </tr>\n",
              "    <tr>\n",
              "      <th>freq</th>\n",
              "      <td>4</td>\n",
              "      <td>1</td>\n",
              "      <td>1</td>\n",
              "    </tr>\n",
              "  </tbody>\n",
              "</table>\n",
              "</div>\n",
              "    <div class=\"colab-df-buttons\">\n",
              "\n",
              "  <div class=\"colab-df-container\">\n",
              "    <button class=\"colab-df-convert\" onclick=\"convertToInteractive('df-6bdb7cce-95e9-49a1-93af-bcacb026ad6f')\"\n",
              "            title=\"Convert this dataframe to an interactive table.\"\n",
              "            style=\"display:none;\">\n",
              "\n",
              "  <svg xmlns=\"http://www.w3.org/2000/svg\" height=\"24px\" viewBox=\"0 -960 960 960\">\n",
              "    <path d=\"M120-120v-720h720v720H120Zm60-500h600v-160H180v160Zm220 220h160v-160H400v160Zm0 220h160v-160H400v160ZM180-400h160v-160H180v160Zm440 0h160v-160H620v160ZM180-180h160v-160H180v160Zm440 0h160v-160H620v160Z\"/>\n",
              "  </svg>\n",
              "    </button>\n",
              "\n",
              "  <style>\n",
              "    .colab-df-container {\n",
              "      display:flex;\n",
              "      gap: 12px;\n",
              "    }\n",
              "\n",
              "    .colab-df-convert {\n",
              "      background-color: #E8F0FE;\n",
              "      border: none;\n",
              "      border-radius: 50%;\n",
              "      cursor: pointer;\n",
              "      display: none;\n",
              "      fill: #1967D2;\n",
              "      height: 32px;\n",
              "      padding: 0 0 0 0;\n",
              "      width: 32px;\n",
              "    }\n",
              "\n",
              "    .colab-df-convert:hover {\n",
              "      background-color: #E2EBFA;\n",
              "      box-shadow: 0px 1px 2px rgba(60, 64, 67, 0.3), 0px 1px 3px 1px rgba(60, 64, 67, 0.15);\n",
              "      fill: #174EA6;\n",
              "    }\n",
              "\n",
              "    .colab-df-buttons div {\n",
              "      margin-bottom: 4px;\n",
              "    }\n",
              "\n",
              "    [theme=dark] .colab-df-convert {\n",
              "      background-color: #3B4455;\n",
              "      fill: #D2E3FC;\n",
              "    }\n",
              "\n",
              "    [theme=dark] .colab-df-convert:hover {\n",
              "      background-color: #434B5C;\n",
              "      box-shadow: 0px 1px 3px 1px rgba(0, 0, 0, 0.15);\n",
              "      filter: drop-shadow(0px 1px 2px rgba(0, 0, 0, 0.3));\n",
              "      fill: #FFFFFF;\n",
              "    }\n",
              "  </style>\n",
              "\n",
              "    <script>\n",
              "      const buttonEl =\n",
              "        document.querySelector('#df-6bdb7cce-95e9-49a1-93af-bcacb026ad6f button.colab-df-convert');\n",
              "      buttonEl.style.display =\n",
              "        google.colab.kernel.accessAllowed ? 'block' : 'none';\n",
              "\n",
              "      async function convertToInteractive(key) {\n",
              "        const element = document.querySelector('#df-6bdb7cce-95e9-49a1-93af-bcacb026ad6f');\n",
              "        const dataTable =\n",
              "          await google.colab.kernel.invokeFunction('convertToInteractive',\n",
              "                                                    [key], {});\n",
              "        if (!dataTable) return;\n",
              "\n",
              "        const docLinkHtml = 'Like what you see? Visit the ' +\n",
              "          '<a target=\"_blank\" href=https://colab.research.google.com/notebooks/data_table.ipynb>data table notebook</a>'\n",
              "          + ' to learn more about interactive tables.';\n",
              "        element.innerHTML = '';\n",
              "        dataTable['output_type'] = 'display_data';\n",
              "        await google.colab.output.renderOutput(dataTable, element);\n",
              "        const docLink = document.createElement('div');\n",
              "        docLink.innerHTML = docLinkHtml;\n",
              "        element.appendChild(docLink);\n",
              "      }\n",
              "    </script>\n",
              "  </div>\n",
              "\n",
              "\n",
              "<div id=\"df-b63d19bd-5203-49a1-8ce0-a516e21bb204\">\n",
              "  <button class=\"colab-df-quickchart\" onclick=\"quickchart('df-b63d19bd-5203-49a1-8ce0-a516e21bb204')\"\n",
              "            title=\"Suggest charts.\"\n",
              "            style=\"display:none;\">\n",
              "\n",
              "<svg xmlns=\"http://www.w3.org/2000/svg\" height=\"24px\"viewBox=\"0 0 24 24\"\n",
              "     width=\"24px\">\n",
              "    <g>\n",
              "        <path d=\"M19 3H5c-1.1 0-2 .9-2 2v14c0 1.1.9 2 2 2h14c1.1 0 2-.9 2-2V5c0-1.1-.9-2-2-2zM9 17H7v-7h2v7zm4 0h-2V7h2v10zm4 0h-2v-4h2v4z\"/>\n",
              "    </g>\n",
              "</svg>\n",
              "  </button>\n",
              "\n",
              "<style>\n",
              "  .colab-df-quickchart {\n",
              "      --bg-color: #E8F0FE;\n",
              "      --fill-color: #1967D2;\n",
              "      --hover-bg-color: #E2EBFA;\n",
              "      --hover-fill-color: #174EA6;\n",
              "      --disabled-fill-color: #AAA;\n",
              "      --disabled-bg-color: #DDD;\n",
              "  }\n",
              "\n",
              "  [theme=dark] .colab-df-quickchart {\n",
              "      --bg-color: #3B4455;\n",
              "      --fill-color: #D2E3FC;\n",
              "      --hover-bg-color: #434B5C;\n",
              "      --hover-fill-color: #FFFFFF;\n",
              "      --disabled-bg-color: #3B4455;\n",
              "      --disabled-fill-color: #666;\n",
              "  }\n",
              "\n",
              "  .colab-df-quickchart {\n",
              "    background-color: var(--bg-color);\n",
              "    border: none;\n",
              "    border-radius: 50%;\n",
              "    cursor: pointer;\n",
              "    display: none;\n",
              "    fill: var(--fill-color);\n",
              "    height: 32px;\n",
              "    padding: 0;\n",
              "    width: 32px;\n",
              "  }\n",
              "\n",
              "  .colab-df-quickchart:hover {\n",
              "    background-color: var(--hover-bg-color);\n",
              "    box-shadow: 0 1px 2px rgba(60, 64, 67, 0.3), 0 1px 3px 1px rgba(60, 64, 67, 0.15);\n",
              "    fill: var(--button-hover-fill-color);\n",
              "  }\n",
              "\n",
              "  .colab-df-quickchart-complete:disabled,\n",
              "  .colab-df-quickchart-complete:disabled:hover {\n",
              "    background-color: var(--disabled-bg-color);\n",
              "    fill: var(--disabled-fill-color);\n",
              "    box-shadow: none;\n",
              "  }\n",
              "\n",
              "  .colab-df-spinner {\n",
              "    border: 2px solid var(--fill-color);\n",
              "    border-color: transparent;\n",
              "    border-bottom-color: var(--fill-color);\n",
              "    animation:\n",
              "      spin 1s steps(1) infinite;\n",
              "  }\n",
              "\n",
              "  @keyframes spin {\n",
              "    0% {\n",
              "      border-color: transparent;\n",
              "      border-bottom-color: var(--fill-color);\n",
              "      border-left-color: var(--fill-color);\n",
              "    }\n",
              "    20% {\n",
              "      border-color: transparent;\n",
              "      border-left-color: var(--fill-color);\n",
              "      border-top-color: var(--fill-color);\n",
              "    }\n",
              "    30% {\n",
              "      border-color: transparent;\n",
              "      border-left-color: var(--fill-color);\n",
              "      border-top-color: var(--fill-color);\n",
              "      border-right-color: var(--fill-color);\n",
              "    }\n",
              "    40% {\n",
              "      border-color: transparent;\n",
              "      border-right-color: var(--fill-color);\n",
              "      border-top-color: var(--fill-color);\n",
              "    }\n",
              "    60% {\n",
              "      border-color: transparent;\n",
              "      border-right-color: var(--fill-color);\n",
              "    }\n",
              "    80% {\n",
              "      border-color: transparent;\n",
              "      border-right-color: var(--fill-color);\n",
              "      border-bottom-color: var(--fill-color);\n",
              "    }\n",
              "    90% {\n",
              "      border-color: transparent;\n",
              "      border-bottom-color: var(--fill-color);\n",
              "    }\n",
              "  }\n",
              "</style>\n",
              "\n",
              "  <script>\n",
              "    async function quickchart(key) {\n",
              "      const quickchartButtonEl =\n",
              "        document.querySelector('#' + key + ' button');\n",
              "      quickchartButtonEl.disabled = true;  // To prevent multiple clicks.\n",
              "      quickchartButtonEl.classList.add('colab-df-spinner');\n",
              "      try {\n",
              "        const charts = await google.colab.kernel.invokeFunction(\n",
              "            'suggestCharts', [key], {});\n",
              "      } catch (error) {\n",
              "        console.error('Error during call to suggestCharts:', error);\n",
              "      }\n",
              "      quickchartButtonEl.classList.remove('colab-df-spinner');\n",
              "      quickchartButtonEl.classList.add('colab-df-quickchart-complete');\n",
              "    }\n",
              "    (() => {\n",
              "      let quickchartButtonEl =\n",
              "        document.querySelector('#df-b63d19bd-5203-49a1-8ce0-a516e21bb204 button');\n",
              "      quickchartButtonEl.style.display =\n",
              "        google.colab.kernel.accessAllowed ? 'block' : 'none';\n",
              "    })();\n",
              "  </script>\n",
              "</div>\n",
              "    </div>\n",
              "  </div>\n"
            ]
          },
          "metadata": {},
          "execution_count": 62
        }
      ]
    },
    {
      "metadata": {
        "trusted": true,
        "colab": {
          "base_uri": "https://localhost:8080/"
        },
        "id": "FZYGAaTnsqjJ",
        "outputId": "070cd5c2-4b8e-4911-fd4e-a46495ef99d0"
      },
      "cell_type": "code",
      "source": [
        "df.dtypes"
      ],
      "execution_count": 63,
      "outputs": [
        {
          "output_type": "execute_result",
          "data": {
            "text/plain": [
              "source              object\n",
              "english_sentence    object\n",
              "hindi_sentence      object\n",
              "dtype: object"
            ]
          },
          "metadata": {},
          "execution_count": 63
        }
      ]
    },
    {
      "metadata": {
        "trusted": true,
        "id": "2Q9STp15sqjJ"
      },
      "cell_type": "code",
      "source": [
        "df['english_sentence'] = df['english_sentence'].astype(str)\n",
        "df['english_sentence']=df['english_sentence'].apply(lambda x: x.lower())\n",
        "df['hindi_sentence']=df['hindi_sentence'].apply(lambda x: x.lower())"
      ],
      "execution_count": 64,
      "outputs": []
    },
    {
      "metadata": {
        "trusted": true,
        "id": "CAJKDIG3sqjK"
      },
      "cell_type": "code",
      "source": [
        "df['hindi_sentence']=df['hindi_sentence'].apply(lambda x: re.sub(\"'\", '', x))\n",
        "df['english_sentence']=df['english_sentence'].apply(lambda x: re.sub(\"'\", '', x))\n",
        "exclude = set(string.punctuation)\n",
        "df['hindi_sentence']=df['hindi_sentence'].apply(lambda x: ''.join(ch for ch in x if ch not in exclude))\n",
        "df['english_sentence']=df['english_sentence'].apply(lambda x: ''.join(ch for ch in x if ch not in exclude))"
      ],
      "execution_count": 65,
      "outputs": []
    },
    {
      "metadata": {
        "trusted": true,
        "id": "frIMaYa2sqjK"
      },
      "cell_type": "code",
      "source": [
        "remove_digits = str.maketrans('', '', digits)\n",
        "df['english_sentence']=df['english_sentence'].apply(lambda x: x.translate(remove_digits))\n",
        "df['hindi_sentence']=df['hindi_sentence'].apply(lambda x: x.translate(remove_digits))\n",
        "df['hindi_sentence'] = df['hindi_sentence'].apply(lambda x: re.sub(\"[२३०८१५७९४६]\", \"\", x))\n",
        "\n",
        "df['english_sentence']=df['english_sentence'].apply(lambda x: x.strip())\n",
        "df['hindi_sentence']=df['hindi_sentence'].apply(lambda x: x.strip())\n",
        "df['english_sentence']=df['english_sentence'].apply(lambda x: re.sub(\" +\", \" \", x))\n",
        "df['hindi_sentence']=df['hindi_sentence'].apply(lambda x: re.sub(\" +\", \" \", x))\n",
        "\n",
        "df['hindi_sentence']=df['hindi_sentence'].apply(lambda x:'START_ ' + x + ' _END')"
      ],
      "execution_count": 66,
      "outputs": []
    },
    {
      "metadata": {
        "trusted": true,
        "id": "HZzgjFyJsqjM"
      },
      "cell_type": "code",
      "source": [
        "senlen1=[]\n",
        "for i in df['english_sentence']:\n",
        "    res = len(i.split())\n",
        "    senlen1.append(res)\n",
        "\n",
        "df['engsentlen']=senlen1"
      ],
      "execution_count": 67,
      "outputs": []
    },
    {
      "metadata": {
        "trusted": true,
        "id": "2W_JEva4sqjN"
      },
      "cell_type": "code",
      "source": [
        "senlen2=[]\n",
        "for j in df['hindi_sentence']:\n",
        "     res = len(j.split())\n",
        "     senlen2.append(res)\n",
        "\n",
        "df['hinsenlen']=senlen2"
      ],
      "execution_count": 68,
      "outputs": []
    },
    {
      "metadata": {
        "trusted": true,
        "id": "0BKmNg5AsqjO"
      },
      "cell_type": "code",
      "source": [
        "new_df=df[df['engsentlen']<=3]\n",
        "new_df=df[df['hinsenlen']<=3]\n",
        "\n",
        "max_length_eng=max(df['engsentlen'])\n",
        "max_length_hin=max(df['hinsenlen'])"
      ],
      "execution_count": 69,
      "outputs": []
    },
    {
      "metadata": {
        "trusted": true,
        "id": "ulPmAsaPsqjV"
      },
      "cell_type": "code",
      "source": [
        "def tokenization(lines):\n",
        "    tokenizer = Tokenizer()\n",
        "    tokenizer.fit_on_texts(lines)\n",
        "    return tokenizer"
      ],
      "execution_count": 70,
      "outputs": []
    },
    {
      "metadata": {
        "trusted": true,
        "id": "U5FMngOWsqjW"
      },
      "cell_type": "code",
      "source": [
        "english_tokenizer = tokenization(df['english_sentence'].values)"
      ],
      "execution_count": 71,
      "outputs": []
    },
    {
      "metadata": {
        "trusted": true,
        "id": "PJiRsq7csqjW"
      },
      "cell_type": "code",
      "source": [
        "english_words=set()\n",
        "for eng in df['english_sentence']:\n",
        "    for word in eng.split():\n",
        "        if word not in english_words:\n",
        "            english_words.add(word)\n",
        "\n",
        "hindi_words=set()\n",
        "for hin in df['hindi_sentence']:\n",
        "    for word in hin.split():\n",
        "        if word not in hindi_words:\n",
        "            hindi_words.add(word)\n",
        "\n",
        "english_words.add(' ')\n",
        "hindi_words.add(' ')"
      ],
      "execution_count": 72,
      "outputs": []
    },
    {
      "metadata": {
        "trusted": true,
        "id": "zr_LQlC_sqjX"
      },
      "cell_type": "code",
      "source": [
        "input_texts = []\n",
        "target_texts = []"
      ],
      "execution_count": 73,
      "outputs": []
    },
    {
      "metadata": {
        "trusted": true,
        "id": "n13qO0KAsqjX"
      },
      "cell_type": "code",
      "source": [
        "for i in df['english_sentence']:\n",
        "    input_texts.append(i)\n",
        "\n",
        "for i in df['hindi_sentence']:\n",
        "    target_texts.append(i)"
      ],
      "execution_count": 74,
      "outputs": []
    },
    {
      "metadata": {
        "trusted": true,
        "id": "ZR2zInz8sqjZ"
      },
      "cell_type": "code",
      "source": [
        "num_encoder_tokens = len(english_words)\n",
        "num_decoder_tokens = len(hindi_words)"
      ],
      "execution_count": 75,
      "outputs": []
    },
    {
      "metadata": {
        "trusted": true,
        "id": "tc1LR8LjsqjZ"
      },
      "cell_type": "code",
      "source": [
        "input_words = sorted(list(english_words))\n",
        "target_words = sorted(list(hindi_words))\n",
        "\n",
        "input_token_index = dict([(char, i) for i, char in enumerate(input_words)])\n",
        "target_token_index = dict([(char, i) for i, char in enumerate(target_words)])"
      ],
      "execution_count": 76,
      "outputs": []
    },
    {
      "metadata": {
        "trusted": true,
        "id": "7iFG4UFEsqjZ"
      },
      "cell_type": "code",
      "source": [
        "reverse_input_char_index = dict((i, char) for char, i in input_token_index.items())\n",
        "reverse_target_char_index = dict((i, char) for char, i in target_token_index.items())"
      ],
      "execution_count": 77,
      "outputs": []
    },
    {
      "metadata": {
        "trusted": true,
        "id": "Dt99mU6Osqja"
      },
      "cell_type": "code",
      "source": [
        "encoder_input_data = np.zeros((len(input_texts), max_length_eng, num_encoder_tokens),dtype='float32')\n",
        "decoder_input_data = np.zeros((len(input_texts), max_length_hin, num_decoder_tokens),dtype='float32')\n",
        "decoder_target_data = np.zeros((len(input_texts),  max_length_hin, num_decoder_tokens),dtype='float32')"
      ],
      "execution_count": 78,
      "outputs": []
    },
    {
      "metadata": {
        "trusted": true,
        "id": "eWDHhqqtsqje"
      },
      "cell_type": "code",
      "source": [
        "for i, (input_text, target_text) in enumerate(zip(input_texts, target_texts)):\n",
        "        for t, word in enumerate(input_text.split()):\n",
        "                    encoder_input_data[i, t, input_token_index[word]]=1.\n",
        "\n",
        "        encoder_input_data[i, t + 1:, input_token_index[' ']] = 1.\n",
        "        for t, word in enumerate(target_text.split()):\n",
        "                    if t<len(target_text.split())-1:\n",
        "                        decoder_input_data[i, t,target_token_index[word]]=1.\n",
        "                    if t>0:\n",
        "                        decoder_target_data[i, t - 1, target_token_index[word]] = 1.\n",
        "\n",
        "        decoder_input_data[i, t + 1:, target_token_index[' ']] = 1.\n",
        "        decoder_target_data[i, t:, target_token_index[' ']] = 1."
      ],
      "execution_count": 79,
      "outputs": []
    },
    {
      "metadata": {
        "trusted": true,
        "id": "wHQvqUq2sqje"
      },
      "cell_type": "code",
      "source": [
        "encoder_inputs=Input(shape=(None, num_encoder_tokens))\n",
        "encoder=LSTM(128,return_state=True)\n",
        "encoder_outputs, state_h, state_c = encoder(encoder_inputs)\n",
        "encoder_states=[state_h,state_c]"
      ],
      "execution_count": 80,
      "outputs": []
    },
    {
      "metadata": {
        "trusted": true,
        "id": "ZNX5-0QBsqjf"
      },
      "cell_type": "code",
      "source": [
        "decoder_inputs = Input(shape=(None, num_decoder_tokens))\n",
        "decoder = LSTM(128, return_sequences=True, return_state=True)\n",
        "decoder_outputs, _, _ = decoder(decoder_inputs,initial_state=encoder_states)\n",
        "decoder_dense = Dense(num_decoder_tokens, activation='softmax')\n",
        "decoder_outputs = decoder_dense(decoder_outputs)\n",
        "\n",
        "model = Model([encoder_inputs, decoder_inputs], decoder_outputs)"
      ],
      "execution_count": 81,
      "outputs": []
    },
    {
      "metadata": {
        "trusted": true,
        "id": "7I403O7zsqjf"
      },
      "cell_type": "code",
      "source": [
        "model.compile(optimizer='rmsprop',loss='categorical_crossentropy',metrics=['accuracy'])"
      ],
      "execution_count": 82,
      "outputs": []
    },
    {
      "metadata": {
        "trusted": true,
        "colab": {
          "base_uri": "https://localhost:8080/"
        },
        "id": "RhG-AIFEsqjf",
        "outputId": "ebd40199-c01f-443a-d21c-4f733ab5b1db"
      },
      "cell_type": "code",
      "source": [
        "model.summary()"
      ],
      "execution_count": 83,
      "outputs": [
        {
          "output_type": "stream",
          "name": "stdout",
          "text": [
            "Model: \"model_6\"\n",
            "__________________________________________________________________________________________________\n",
            " Layer (type)                Output Shape                 Param #   Connected to                  \n",
            "==================================================================================================\n",
            " input_9 (InputLayer)        [(None, None, 100)]          0         []                            \n",
            "                                                                                                  \n",
            " input_10 (InputLayer)       [(None, None, 121)]          0         []                            \n",
            "                                                                                                  \n",
            " lstm_4 (LSTM)               [(None, 128),                117248    ['input_9[0][0]']             \n",
            "                              (None, 128),                                                        \n",
            "                              (None, 128)]                                                        \n",
            "                                                                                                  \n",
            " lstm_5 (LSTM)               [(None, None, 128),          128000    ['input_10[0][0]',            \n",
            "                              (None, 128),                           'lstm_4[0][1]',              \n",
            "                              (None, 128)]                           'lstm_4[0][2]']              \n",
            "                                                                                                  \n",
            " dense_2 (Dense)             (None, None, 121)            15609     ['lstm_5[0][0]']              \n",
            "                                                                                                  \n",
            "==================================================================================================\n",
            "Total params: 260857 (1018.97 KB)\n",
            "Trainable params: 260857 (1018.97 KB)\n",
            "Non-trainable params: 0 (0.00 Byte)\n",
            "__________________________________________________________________________________________________\n"
          ]
        }
      ]
    },
    {
      "metadata": {
        "trusted": true,
        "id": "hZ5cyQs2sqjf",
        "colab": {
          "base_uri": "https://localhost:8080/"
        },
        "outputId": "77c7e06e-66b9-4e89-e205-49e9c68419ce"
      },
      "cell_type": "code",
      "source": [
        "model.fit([encoder_input_data,decoder_input_data],decoder_target_data,batch_size=128,epochs=20,validation_split=0.2)"
      ],
      "execution_count": 84,
      "outputs": [
        {
          "output_type": "stream",
          "name": "stdout",
          "text": [
            "Epoch 1/20\n",
            "1/1 [==============================] - 4s 4s/step - loss: 4.8244 - accuracy: 0.0034 - val_loss: 4.7908 - val_accuracy: 0.0000e+00\n",
            "Epoch 2/20\n",
            "1/1 [==============================] - 0s 44ms/step - loss: 4.6900 - accuracy: 0.0405 - val_loss: 4.7829 - val_accuracy: 0.0946\n",
            "Epoch 3/20\n",
            "1/1 [==============================] - 0s 45ms/step - loss: 4.5625 - accuracy: 0.6554 - val_loss: 4.7712 - val_accuracy: 0.0946\n",
            "Epoch 4/20\n",
            "1/1 [==============================] - 0s 46ms/step - loss: 4.3729 - accuracy: 0.6554 - val_loss: 4.7379 - val_accuracy: 0.0946\n",
            "Epoch 5/20\n",
            "1/1 [==============================] - 0s 40ms/step - loss: 3.9746 - accuracy: 0.6554 - val_loss: 4.5727 - val_accuracy: 0.0946\n",
            "Epoch 6/20\n",
            "1/1 [==============================] - 0s 42ms/step - loss: 2.9735 - accuracy: 0.6520 - val_loss: 4.8537 - val_accuracy: 0.0946\n",
            "Epoch 7/20\n",
            "1/1 [==============================] - 0s 41ms/step - loss: 2.0880 - accuracy: 0.6520 - val_loss: 5.1687 - val_accuracy: 0.0946\n",
            "Epoch 8/20\n",
            "1/1 [==============================] - 0s 41ms/step - loss: 1.9343 - accuracy: 0.6520 - val_loss: 5.2464 - val_accuracy: 0.0946\n",
            "Epoch 9/20\n",
            "1/1 [==============================] - 0s 46ms/step - loss: 1.8759 - accuracy: 0.6520 - val_loss: 5.3435 - val_accuracy: 0.0946\n",
            "Epoch 10/20\n",
            "1/1 [==============================] - 0s 42ms/step - loss: 1.8395 - accuracy: 0.6520 - val_loss: 5.4294 - val_accuracy: 0.0946\n",
            "Epoch 11/20\n",
            "1/1 [==============================] - 0s 43ms/step - loss: 1.8135 - accuracy: 0.6520 - val_loss: 5.5076 - val_accuracy: 0.0946\n",
            "Epoch 12/20\n",
            "1/1 [==============================] - 0s 40ms/step - loss: 1.7928 - accuracy: 0.6554 - val_loss: 5.5747 - val_accuracy: 0.0946\n",
            "Epoch 13/20\n",
            "1/1 [==============================] - 0s 40ms/step - loss: 1.7749 - accuracy: 0.6554 - val_loss: 5.6356 - val_accuracy: 0.0946\n",
            "Epoch 14/20\n",
            "1/1 [==============================] - 0s 40ms/step - loss: 1.7583 - accuracy: 0.6554 - val_loss: 5.6862 - val_accuracy: 0.0946\n",
            "Epoch 15/20\n",
            "1/1 [==============================] - 0s 44ms/step - loss: 1.7424 - accuracy: 0.6554 - val_loss: 5.7374 - val_accuracy: 0.0946\n",
            "Epoch 16/20\n",
            "1/1 [==============================] - 0s 40ms/step - loss: 1.7263 - accuracy: 0.6554 - val_loss: 5.7606 - val_accuracy: 0.0946\n",
            "Epoch 17/20\n",
            "1/1 [==============================] - 0s 41ms/step - loss: 1.7094 - accuracy: 0.6588 - val_loss: 5.8622 - val_accuracy: 0.0946\n",
            "Epoch 18/20\n",
            "1/1 [==============================] - 0s 42ms/step - loss: 1.6927 - accuracy: 0.6588 - val_loss: 5.5248 - val_accuracy: 0.0946\n",
            "Epoch 19/20\n",
            "1/1 [==============================] - 0s 56ms/step - loss: 1.7587 - accuracy: 0.6588 - val_loss: 6.8084 - val_accuracy: 0.0946\n",
            "Epoch 20/20\n",
            "1/1 [==============================] - 0s 43ms/step - loss: 1.9771 - accuracy: 0.6554 - val_loss: 5.7630 - val_accuracy: 0.0946\n"
          ]
        },
        {
          "output_type": "execute_result",
          "data": {
            "text/plain": [
              "<keras.src.callbacks.History at 0x7bd58e166b30>"
            ]
          },
          "metadata": {},
          "execution_count": 84
        }
      ]
    },
    {
      "metadata": {
        "trusted": true,
        "id": "NVYMuE96sqjg"
      },
      "cell_type": "code",
      "source": [
        "model.save('final_model')"
      ],
      "execution_count": 85,
      "outputs": []
    },
    {
      "metadata": {
        "trusted": true,
        "id": "nooW0hozsqjg"
      },
      "cell_type": "code",
      "source": [
        "encoder_model = Model(encoder_inputs, encoder_states)\n",
        "decoder_state_input_h = Input(shape=(128,))\n",
        "decoder_state_input_c = Input(shape=(128,))\n",
        "decoder_states_inputs = [decoder_state_input_h, decoder_state_input_c]\n",
        "\n",
        "decoder_outputs, state_h, state_c = decoder(decoder_inputs, initial_state=decoder_states_inputs)\n",
        "decoder_states = [state_h, state_c]\n",
        "decoder_outputs = decoder_dense(decoder_outputs)\n",
        "\n",
        "decoder_model = Model([decoder_inputs] + decoder_states_inputs,[decoder_outputs] + decoder_states)"
      ],
      "execution_count": 86,
      "outputs": []
    },
    {
      "metadata": {
        "trusted": true,
        "id": "vVhqKgdPsqjh"
      },
      "cell_type": "code",
      "source": [
        "def decode_sequence(input_seq):\n",
        "    states_value = encoder_model.predict(input_seq)\n",
        "    target_seq = np.zeros((1, 1, num_decoder_tokens))\n",
        "    target_seq[0, 0, target_token_index['START_']] = 1.\n",
        "    stop_condition = False\n",
        "    decoded_sentence = ''\n",
        "    while not stop_condition:\n",
        "        output_tokens, h, c = decoder_model.predict(\n",
        "            [target_seq] + states_value)\n",
        "        sampled_token_index = np.argmax(output_tokens[0, -1, :])\n",
        "        sampled_char = reverse_target_char_index[sampled_token_index]\n",
        "        decoded_sentence = decoded_sentence + ' '+ sampled_char\n",
        "\n",
        "        if (sampled_char == '_END' or\n",
        "           len(decoded_sentence) > max_length_hin):\n",
        "            stop_condition = True\n",
        "\n",
        "        target_seq = np.zeros((1, 1, num_decoder_tokens))\n",
        "        target_seq[0, 0, sampled_token_index] = 1.\n",
        "\n",
        "        states_value = [h, c]\n",
        "\n",
        "    return decoded_sentence"
      ],
      "execution_count": 87,
      "outputs": []
    },
    {
      "metadata": {
        "trusted": true,
        "id": "vmQSethAsqji",
        "colab": {
          "base_uri": "https://localhost:8080/"
        },
        "outputId": "04fa0f00-97bc-4853-9029-076143b809eb"
      },
      "cell_type": "code",
      "source": [
        "for seq_index in range(6,9):\n",
        "    input_seq = encoder_input_data[seq_index: seq_index + 1]\n",
        "    decoded_sentence = decode_sequence(input_seq)\n",
        "    print('-')\n",
        "    print('Input sentence in English:', input_texts[seq_index])\n",
        "    print('Translated sentence in Hindi:', decoded_sentence)"
      ],
      "execution_count": 88,
      "outputs": [
        {
          "output_type": "stream",
          "name": "stdout",
          "text": [
            "1/1 [==============================] - 0s 324ms/step\n",
            "1/1 [==============================] - 0s 367ms/step\n",
            "1/1 [==============================] - 0s 25ms/step\n",
            "1/1 [==============================] - 0s 19ms/step\n",
            "1/1 [==============================] - 0s 19ms/step\n",
            "1/1 [==============================] - 0s 22ms/step\n",
            "1/1 [==============================] - 0s 27ms/step\n",
            "1/1 [==============================] - 0s 22ms/step\n",
            "1/1 [==============================] - 0s 22ms/step\n",
            "1/1 [==============================] - 0s 24ms/step\n",
            "1/1 [==============================] - 0s 22ms/step\n",
            "1/1 [==============================] - 0s 20ms/step\n",
            "1/1 [==============================] - 0s 19ms/step\n",
            "1/1 [==============================] - 0s 19ms/step\n",
            "1/1 [==============================] - 0s 20ms/step\n",
            "1/1 [==============================] - 0s 21ms/step\n",
            "1/1 [==============================] - 0s 22ms/step\n",
            "1/1 [==============================] - 0s 19ms/step\n",
            "1/1 [==============================] - 0s 21ms/step\n",
            "-\n",
            "Input sentence in English: in this lies the circumstances of people before you\n",
            "Translated sentence in Hindi:  हम हम                                \n",
            "1/1 [==============================] - 0s 19ms/step\n",
            "1/1 [==============================] - 0s 21ms/step\n",
            "1/1 [==============================] - 0s 22ms/step\n",
            "1/1 [==============================] - 0s 23ms/step\n",
            "1/1 [==============================] - 0s 21ms/step\n",
            "1/1 [==============================] - 0s 20ms/step\n",
            "1/1 [==============================] - 0s 20ms/step\n",
            "1/1 [==============================] - 0s 20ms/step\n",
            "1/1 [==============================] - 0s 26ms/step\n",
            "1/1 [==============================] - 0s 21ms/step\n",
            "1/1 [==============================] - 0s 21ms/step\n",
            "1/1 [==============================] - 0s 22ms/step\n",
            "1/1 [==============================] - 0s 20ms/step\n",
            "1/1 [==============================] - 0s 23ms/step\n",
            "1/1 [==============================] - 0s 20ms/step\n",
            "1/1 [==============================] - 0s 24ms/step\n",
            "1/1 [==============================] - 0s 19ms/step\n",
            "1/1 [==============================] - 0s 21ms/step\n",
            "1/1 [==============================] - 0s 20ms/step\n",
            "-\n",
            "Input sentence in English: and who are we to say even that they are wrong\n",
            "Translated sentence in Hindi:  हम हम                                \n",
            "1/1 [==============================] - 0s 19ms/step\n",
            "1/1 [==============================] - 0s 24ms/step\n",
            "1/1 [==============================] - 0s 22ms/step\n",
            "1/1 [==============================] - 0s 25ms/step\n",
            "1/1 [==============================] - 0s 19ms/step\n",
            "1/1 [==============================] - 0s 28ms/step\n",
            "1/1 [==============================] - 0s 19ms/step\n",
            "1/1 [==============================] - 0s 22ms/step\n",
            "1/1 [==============================] - 0s 21ms/step\n",
            "1/1 [==============================] - 0s 21ms/step\n",
            "1/1 [==============================] - 0s 19ms/step\n",
            "1/1 [==============================] - 0s 22ms/step\n",
            "1/1 [==============================] - 0s 20ms/step\n",
            "1/1 [==============================] - 0s 19ms/step\n",
            "1/1 [==============================] - 0s 22ms/step\n",
            "1/1 [==============================] - 0s 22ms/step\n",
            "1/1 [==============================] - 0s 21ms/step\n",
            "1/1 [==============================] - 0s 23ms/step\n",
            "1/1 [==============================] - 0s 21ms/step\n",
            "-\n",
            "Input sentence in English: “”global warming“” refer to warming caused in recent decades and probability of its continual presence and its indirect effect on human being\n",
            "Translated sentence in Hindi:  हम यह                                \n"
          ]
        }
      ]
    },
    {
      "cell_type": "code",
      "source": [],
      "metadata": {
        "id": "3iKxVdCZKQeT"
      },
      "execution_count": 88,
      "outputs": []
    }
  ],
  "metadata": {
    "kernelspec": {
      "name": "python3",
      "display_name": "Python 3"
    },
    "language_info": {
      "name": "python",
      "version": "3.7.6",
      "mimetype": "text/x-python",
      "codemirror_mode": {
        "name": "ipython",
        "version": 3
      },
      "pygments_lexer": "ipython3",
      "nbconvert_exporter": "python",
      "file_extension": ".py"
    },
    "colab": {
      "provenance": [],
      "gpuType": "T4"
    },
    "accelerator": "GPU"
  },
  "nbformat": 4,
  "nbformat_minor": 0
}